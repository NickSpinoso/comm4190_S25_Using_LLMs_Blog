{
 "cells": [
  {
   "cell_type": "raw",
   "id": "a9c0c5d9-5351-4a41-b52c-5629a4303926",
   "metadata": {},
   "source": [
    "---\n",
    "title: \"What is the hardest thing to do in sports?\"\n",
    "description: \"testing to see what it thinks\" \n",
    "author: \"Nick\"\n",
    "date: \"5/13/2025\"\n",
    "categories:\n",
    "  - sports\n",
    "---"
   ]
  },
  {
   "cell_type": "raw",
   "id": "bc978316-e896-4ed9-acdc-449509351ef0",
   "metadata": {},
   "source": [
    "#9 What is the hardest thing to do in sports?\n",
    "\n",
    "One of the most commonly agreed-upon hardest things to do in sports is:\n",
    "\n",
    "> **Hitting a baseball**—especially a Major League fastball.\n",
    "\n",
    "---\n",
    "\n",
    "### ⚾ Why it’s considered the hardest:\n",
    "- A 95 mph pitch reaches the plate in about **0.4 seconds**.\n",
    "- Hitters must decide to swing in **less than 0.2 seconds**, while judging speed, spin, and location.\n",
    "- The ball can move unpredictably (curveballs, sliders, etc.).\n",
    "- Even elite hitters **fail 70% of the time**—and that’s considered *great*.\n",
    "\n",
    "---\n",
    "\n",
    "### Other contenders people argue for:\n",
    "- **Returning a tennis serve** at 130+ mph\n",
    "- **Saving a penalty kick** in soccer\n",
    "- **Landing a trick** in elite gymnastics\n",
    "- **Executing under pressure** (e.g., final hole in golf majors or free throws in a tied NBA game)\n",
    "\n",
    "---\n",
    "\n",
    "But overall?  \n",
    "**Hitting a baseball** is widely respected—even across sports—as the most technically and mentally difficult task.\n",
    "\n",
    "Want a deeper comparison between sports challenges?\n"
   ]
  },
  {
   "cell_type": "raw",
   "id": "e4c1b1fe-1aaf-40d2-bb25-373944b491a7",
   "metadata": {},
   "source": [
    "My Answer: I agree with this, the other things that were mentioned do not happen literally every play aside from tennis. But the other side that wasn't discussed was how when you hit the baseball you still have to make it past 8 other players in the field. So you either have to hit it hard enough or in the right spot as well as make it to the base without them making a play.\n"
   ]
  }
 ],
 "metadata": {
  "kernelspec": {
   "display_name": "Python 3-12 (COMM4190)",
   "language": "python",
   "name": "python3-12_comm4190"
  },
  "language_info": {
   "codemirror_mode": {
    "name": "ipython",
    "version": 3
   },
   "file_extension": ".py",
   "mimetype": "text/x-python",
   "name": "python",
   "nbconvert_exporter": "python",
   "pygments_lexer": "ipython3",
   "version": "3.12.8"
  }
 },
 "nbformat": 4,
 "nbformat_minor": 5
}
