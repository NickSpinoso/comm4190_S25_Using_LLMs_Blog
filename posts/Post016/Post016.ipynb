{
 "cells": [
  {
   "cell_type": "raw",
   "id": "60c7660e-0fb5-4fd9-999d-b7a39eb9d197",
   "metadata": {},
   "source": [
    "---\n",
    "title: \"Who is the best college basketball team\"\n",
    "description: \"deciding the best college basketball team\" \n",
    "author: \"Nick\"\n",
    "date: \"5/13/2025\"\n",
    "categories:\n",
    "  - basketball\n",
    "---"
   ]
  },
  {
   "cell_type": "raw",
   "id": "a62cc829-7a3f-4926-9b86-596c1c03f3ac",
   "metadata": {},
   "source": [
    "#16 Who is the best college basketball team?\n",
    "\n",
    "The answer to **“best college basketball team”** also depends on context—**historically**, **right now**, or **in a single dominant season**. Here's a quick breakdown of each:\n",
    "\n",
    "---\n",
    "\n",
    "### 🏆 All-Time Best College Basketball Program\n",
    "\n",
    "**University of California, Los Angeles (UCLA Bruins)**\n",
    "\n",
    "* **Championships**: 11 NCAA titles (10 under legendary coach John Wooden)\n",
    "* **Why**: They dominated the sport from the 1960s through the 1970s, including **seven straight titles** (1967–1973), which may never be matched.\n",
    "* **Notable players**: Kareem Abdul-Jabbar (then Lew Alcindor), Bill Walton\n",
    "\n",
    "---\n",
    "\n",
    "### 🔥 Best Team *Right Now* (2024–2025 Season)\n",
    "\n",
    "**University of Connecticut (UConn Huskies)**\n",
    "\n",
    "* **Why**: They won back-to-back national championships in 2023 and 2024, showing dominant, well-rounded play. Head coach Dan Hurley has turned UConn into a powerhouse again with defense, rebounding, and tough-minded players.\n",
    "* **Notable players**: Donovan Clingan, Tristen Newton, Stephon Castle (2024 season)\n",
    "\n",
    "---\n",
    "\n",
    "### 💣 Most Dominant Single-Season Team\n",
    "\n",
    "**2011–12 Kentucky Wildcats**\n",
    "\n",
    "* **Record**: 38–2\n",
    "* **Championship**: 2012 NCAA title\n",
    "* **Why**: Loaded with future NBA stars like Anthony Davis, Michael Kidd-Gilchrist, and Terrence Jones, this team dominated both ends of the court and had size, athleticism, and defense unmatched in their year.\n",
    "\n",
    "---\n",
    "\n",
    "Let me know if you're thinking **men’s or women’s**, or want to focus on **coaching, recruiting, or NBA pipeline**—I can break it down further!\n"
   ]
  },
  {
   "cell_type": "raw",
   "id": "b813c041-6ace-4656-98ae-d590876d5ffd",
   "metadata": {},
   "source": [
    "My answer: I would definitely have included Duke, leaving them out of this seems a bit ridiculous considering they have the 2nd more national championships in the last 30 years and they have the best team in the country this year just happened to not go their way.\n"
   ]
  },
  {
   "cell_type": "code",
   "execution_count": null,
   "id": "9940c2ba-ec6e-4f5a-ae03-592122807d5b",
   "metadata": {},
   "outputs": [],
   "source": []
  }
 ],
 "metadata": {
  "kernelspec": {
   "display_name": "Python 3-12 (COMM4190)",
   "language": "python",
   "name": "python3-12_comm4190"
  },
  "language_info": {
   "codemirror_mode": {
    "name": "ipython",
    "version": 3
   },
   "file_extension": ".py",
   "mimetype": "text/x-python",
   "name": "python",
   "nbconvert_exporter": "python",
   "pygments_lexer": "ipython3",
   "version": "3.12.8"
  }
 },
 "nbformat": 4,
 "nbformat_minor": 5
}
