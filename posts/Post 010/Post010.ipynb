{
 "cells": [
  {
   "cell_type": "raw",
   "id": "cca7d193-7fa5-41b5-bb83-9d774e9afc7e",
   "metadata": {},
   "source": [
    "---\n",
    "title: \"Why should I go to penn for school?\"\n",
    "description: \"Asking about college and going to Upenn\" \n",
    "author: \"Nick\"\n",
    "date: \"5/13/2025\"\n",
    "categories:\n",
    "  - School\n",
    "---"
   ]
  },
  {
   "cell_type": "raw",
   "id": "263e3caf-204c-4520-b50d-3ea5c00ca777",
   "metadata": {},
   "source": [
    "#10 Why should you go to Upenn for college?\n",
    "\n",
    "You should consider going to **UPenn (University of Pennsylvania)** because it offers a powerful mix of **academic excellence, real-world opportunity, and campus culture**. Here's why it's a top choice:\n",
    "\n",
    "---\n",
    "\n",
    "### 🎓 **1. Ivy League Education with Practical Focus**\n",
    "- World-class faculty and resources.\n",
    "- Strong blend of **theory and application**, especially in fields like business, engineering, and healthcare.\n",
    "\n",
    "---\n",
    "\n",
    "### 🏆 **2. The Wharton School**\n",
    "- Arguably the **best undergraduate business program in the world**.\n",
    "- Opens doors in finance, entrepreneurship, and management globally.\n",
    "\n",
    "---\n",
    "\n",
    "### 🧠 **3. Interdisciplinary Learning**\n",
    "- Penn’s “One University” policy encourages students to **take classes across schools**—business majors can study fine arts, and engineers can take law classes.\n",
    "\n",
    "---\n",
    "\n",
    "### 🌎 **4. Career & Networking Power**\n",
    "- Access to **global alumni networks** and **Philadelphia's** job market.\n",
    "- High job placement and internship rates.\n",
    "\n",
    "---\n",
    "\n",
    "### 🌟 **5. Vibrant Campus Life**\n",
    "- Diverse student body, active clubs, sports, arts, and community service.\n",
    "- Strong school spirit and urban-campus blend.\n",
    "\n",
    "---\n",
    "\n",
    "### Bottom Line:\n",
    "> If you want a **prestigious, flexible, and career-focused education** with access to one of the world’s top business schools, **UPenn is an elite choice**.\n",
    "\n",
    "Are you thinking about a specific major or career path there?\n"
   ]
  },
  {
   "cell_type": "raw",
   "id": "4c1000a3-ccfc-44e6-9f93-75e56a429084",
   "metadata": {},
   "source": [
    "\n",
    "My Answer: This I thought would be interesting considering anything Chat gets is from the internet and no lived experiences. But it did a pretty good job touching on things that are really important to why you would go to Penn on a surface level. I looked more into campus life and they talked about Fraternities and sororities but nothing in specific about things that go on or places people go which was interesting. I also asked about some classes and there was a lot of information on the classes that are offered and pretty popular here as well as some professors who are very well respected amongst the staff and student body."
   ]
  }
 ],
 "metadata": {
  "kernelspec": {
   "display_name": "Python 3-12 (COMM4190)",
   "language": "python",
   "name": "python3-12_comm4190"
  },
  "language_info": {
   "codemirror_mode": {
    "name": "ipython",
    "version": 3
   },
   "file_extension": ".py",
   "mimetype": "text/x-python",
   "name": "python",
   "nbconvert_exporter": "python",
   "pygments_lexer": "ipython3",
   "version": "3.12.8"
  }
 },
 "nbformat": 4,
 "nbformat_minor": 5
}
