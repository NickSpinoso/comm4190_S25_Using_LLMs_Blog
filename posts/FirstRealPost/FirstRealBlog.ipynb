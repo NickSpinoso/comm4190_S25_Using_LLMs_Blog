{
 "cells": [
  {
   "cell_type": "markdown",
   "id": "fdca5353-72a6-413e-a4e9-837b552be5e3",
   "metadata": {},
   "source": [
    "---\n",
    "title: \"First Real Blog\"\n",
    "description: \"How to shoot a basketball\"\n",
    "author: \"Nick S\"\n",
    "date: \"4/9/2025\"\n",
    "categories:\n",
    "  - LLMs\n",
    "  - prompting\n",
    "  - logic\n",
    "  - basketball\n",
    "---"
   ]
  },
  {
   "cell_type": "markdown",
   "id": "4c8f4afb-adab-4863-9393-f912d9a49aa3",
   "metadata": {},
   "source": [
    "# How to Shoot a Basketball\n",
    "\n",
    "\"How Do I shoot a basketball?\"\n",
    "\n",
    "Chat GPT:\n",
    "Shooting a basketball is a combination of technique, form, and practice. Here’s a breakdown of how to do it:\n",
    "\n",
    "### 1. **Stance and Balance**\n",
    "   - **Feet**: Stand with your feet shoulder-width apart for balance. Keep your knees slightly bent.\n",
    "   - **Weight**: Distribute your weight evenly between both feet, staying low and in a balanced position.\n",
    "   - **Body**: Keep your body upright, not leaning too far forward or backward.\n",
    "\n",
    "### 2. **Grip and Hand Placement**\n",
    "   - **Shooting Hand**: Hold the ball with your shooting hand (dominant hand). Your fingertips should be spread out, with a small pocket of air between your palm and the ball. The ball should rest on your fingertips, not the palm.\n",
    "   - **Guide Hand**: Your non-shooting hand should be on the side of the ball to help guide it but shouldn’t push the ball during the shot.\n",
    "   - **Ball Placement**: The ball should be just above your shooting hand's wrist and close to your shooting pocket (the area near your shooting shoulder).\n",
    "\n",
    "### 3. **Focus on the Target**\n",
    "   - **Aim**: Pick a specific target on the hoop (like the front of the rim, the back of the rim, or the center of the hoop). Focus on that spot instead of the entire hoop to improve accuracy.\n",
    "\n",
    "### 4. **Shooting Motion**\n",
    "   - **Elbow Alignment**: Ensure your shooting elbow is directly under the ball and pointed toward the basket. Your shooting arm should form an “L” shape.\n",
    "   - **Legs**: Push off with your legs for power, transferring the energy from your legs through your torso and into your arms.\n",
    "   - **Release**: As you extend your legs and arms, release the ball with a flick of your wrist. The motion should be smooth and fluid, with your shooting hand following through toward the basket. Your fingers should point down, and your wrist should be relaxed.\n",
    "   \n",
    "### 5. **Follow Through**\n",
    "   - After releasing the ball, hold your follow-through for a moment, keeping your arm extended and wrist relaxed.\n",
    "   - Your fingers should be pointing toward the basket, like you're reaching into the cookie jar. This ensures proper form and gives you better consistency.\n",
    "\n",
    "### 6. **Practice**\n",
    "   - Shooting is a skill that improves with practice. Focus on form first, then gradually work on accuracy and consistency.\n",
    "\n",
    "Would you like tips on how to practice shooting or advice for a particular type of shot, like free throws or jump shots?\n"
   ]
  },
  {
   "cell_type": "markdown",
   "id": "d8f0e271-dda4-4105-b503-9d4aaf3f8fd4",
   "metadata": {},
   "source": [
    "## My Opinion\n",
    "\n",
    "- These topics are great overall tips to shooting at a very basic level but they do not encapsulate the real feel.\n",
    "- The number one thing that someone should know is that no body shoots the same, even from the best shooters like Steph Curry to someone who is just getting the hang of things everything is different.\n",
    "- There are many great shooters who have very \"ugly\" or unorthodox shooting forms\n",
    "- The biggest thing is feel, how it feels when you shoot it and what your body responds best to.\n",
    "- Yes bending your legs and holding your follow through are important but finding what feels good in a balance is what is most important."
   ]
  },
  {
   "cell_type": "code",
   "execution_count": 1,
   "id": "69c4cc92-9ee9-46c5-9a66-8fb2ec3bdbb3",
   "metadata": {},
   "outputs": [
    {
     "name": "stdout",
     "output_type": "stream",
     "text": [
      "/bin/bash: -c: line 1: syntax error near unexpected token `shot.png'\n",
      "/bin/bash: -c: line 1: `[Image](shot.png)'\n"
     ]
    }
   ],
   "source": [
    "![Image](shot.png)"
   ]
  },
  {
   "cell_type": "code",
   "execution_count": null,
   "id": "e05e1064-a184-4538-b5ed-5e01bcedf8dc",
   "metadata": {},
   "outputs": [],
   "source": []
  }
 ],
 "metadata": {
  "citation-manager": {
   "items": {}
  },
  "kernelspec": {
   "display_name": "Python 3-12 (COMM4190)",
   "language": "python",
   "name": "python3-12_comm4190"
  },
  "language_info": {
   "codemirror_mode": {
    "name": "ipython",
    "version": 3
   },
   "file_extension": ".py",
   "mimetype": "text/x-python",
   "name": "python",
   "nbconvert_exporter": "python",
   "pygments_lexer": "ipython3",
   "version": "3.12.8"
  }
 },
 "nbformat": 4,
 "nbformat_minor": 5
}
