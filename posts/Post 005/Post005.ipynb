{
 "cells": [
  {
   "cell_type": "raw",
   "id": "509cdd59-c4d6-4d2e-bbc5-76c9d83b17f3",
   "metadata": {},
   "source": [
    "---\n",
    "title: \"How Do you hit a baseball?\"\n",
    "description: \"hitting a baseball\" \n",
    "author: \"Nick\"\n",
    "date: \"5/13/2025\"\n",
    "categories:\n",
    "-Sports\n",
    "---"
   ]
  },
  {
   "cell_type": "raw",
   "id": "96944c6a-dcfd-4de3-9941-e9209411018d",
   "metadata": {},
   "source": [
    "#5 How do you hit a baseball?\n",
    "\n",
    "To hit a baseball effectively, you need to combine **proper mechanics, timing, and focus**. Here's a step-by-step breakdown:\n",
    "\n",
    "---\n",
    "\n",
    "### ⚾ 1. **Get in the Right Stance**\n",
    "- Feet shoulder-width apart\n",
    "- Knees slightly bent\n",
    "- Bat held comfortably over your back shoulder\n",
    "- Eyes on the pitcher\n",
    "\n",
    "---\n",
    "\n",
    "### ⚾ 2. **Track the Pitch**\n",
    "- Watch the ball from the pitcher’s hand all the way to the plate\n",
    "- Look for release point, spin, and speed\n",
    "\n",
    "---\n",
    "\n",
    "### ⚾ 3. **Load and Stride**\n",
    "- Slightly shift your weight back (load)\n",
    "- Take a small step forward (stride) as the pitcher releases the ball\n",
    "- Keep your hands back and eyes level\n",
    "\n",
    "---\n",
    "\n",
    "### ⚾ 4. **Swing Mechanics**\n",
    "- Rotate your hips and shoulders through the zone\n",
    "- Keep your hands inside the ball (don’t cast them out)\n",
    "- Swing level or slightly upward through the hitting zone\n",
    "- Extend your arms fully through contact\n",
    "\n",
    "---\n",
    "\n",
    "### ⚾ 5. **Follow Through**\n",
    "- After contact, let your swing continue naturally\n",
    "- Maintain balance and control\n",
    "\n",
    "---\n",
    "\n",
    "### Bonus Tips:\n",
    "- Use a batting tee or soft toss for practice\n",
    "- Focus on hitting the ball up the middle or to the opposite field\n",
    "- Stay relaxed, not tense\n",
    "\n",
    "Want drills to improve your swing or help with timing off fastballs?\n"
   ]
  },
  {
   "cell_type": "raw",
   "id": "a8527590-a75d-46d8-be33-f36b1ecd6390",
   "metadata": {},
   "source": [
    "My Answer: So unlike a layup I think Chat got this one pretty spot on. Although I do not play baseball in college I did grow up playing it and was very involved for most of my life. I would also say that every swing is different, there is a general consensus you should be balanced and keep your hands steady and through the strike zone. But timing, foot placement, bat placement and even your overall stance varies from player to player. "
   ]
  },
  {
   "cell_type": "code",
   "execution_count": null,
   "id": "f40be33a-8d4c-4114-9515-185ffdd11c8f",
   "metadata": {},
   "outputs": [],
   "source": []
  }
 ],
 "metadata": {
  "kernelspec": {
   "display_name": "Python 3-12 (COMM4190)",
   "language": "python",
   "name": "python3-12_comm4190"
  },
  "language_info": {
   "codemirror_mode": {
    "name": "ipython",
    "version": 3
   },
   "file_extension": ".py",
   "mimetype": "text/x-python",
   "name": "python",
   "nbconvert_exporter": "python",
   "pygments_lexer": "ipython3",
   "version": "3.12.8"
  }
 },
 "nbformat": 4,
 "nbformat_minor": 5
}
