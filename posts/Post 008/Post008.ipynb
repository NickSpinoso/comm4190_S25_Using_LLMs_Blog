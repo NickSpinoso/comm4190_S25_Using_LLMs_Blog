{
 "cells": [
  {
   "cell_type": "raw",
   "id": "dd9768e6-4244-4bcd-a3f3-5506ab150390",
   "metadata": {},
   "source": [
    "---\n",
    "title: \"How To Dunk a basketball\"\n",
    "description: \"seeing what it says on how to do something that I do\" \n",
    "author: \"Nick\"\n",
    "date: \"5/13/2025\"\n",
    "categories:\n",
    "  - basketball\n",
    "---"
   ]
  },
  {
   "cell_type": "raw",
   "id": "d65bddbd-27b3-421f-962b-679e0dbd77ba",
   "metadata": {},
   "source": [
    "#8 How do you dunk a basketball?\n",
    "\n",
    "To **dunk a basketball**, you need **explosive power, timing, and control**. Here’s a step-by-step guide:\n",
    "\n",
    "---\n",
    "\n",
    "### 🔥 1. **Build Your Vertical Jump**\n",
    "- Do strength and plyometric training: squats, lunges, box jumps, calf raises\n",
    "- Practice jumping with both feet and one foot\n",
    "- Stretch consistently to stay explosive and avoid injury\n",
    "\n",
    "---\n",
    "\n",
    "### 🏀 2. **Grip the Ball**\n",
    "- If you have **big hands**, palm it; otherwise, use both hands or toss it up to yourself\n",
    "- A **smaller ball** (like a volleyball) is good for early dunk practice\n",
    "\n",
    "---\n",
    "\n",
    "### 🏃‍♂️ 3. **Perfect Your Approach**\n",
    "- Take 2–4 strong steps leading into your jump\n",
    "- Last step should be quick and powerful, planting into your takeoff foot (or both feet)\n",
    "\n",
    "---\n",
    "\n",
    "### ⬆️ 4. **Jump and Extend**\n",
    "- Drive your arms up with your jump to generate height\n",
    "- Keep your eyes on the rim\n",
    "- Pull the ball up strong with both hands (or cock back one-handed) and aim to throw it *down* into the hoop\n",
    "\n",
    "---\n",
    "\n",
    "### 💥 5. **Control the Finish**\n",
    "- Hang on the rim if needed for balance or safety\n",
    "- Focus on landing softly to avoid injury\n",
    "\n",
    "---\n",
    "\n",
    "### 🧠 Tips:\n",
    "- Start with **rim touches** and **backboard taps**\n",
    "- Use **resistance bands** or **weighted vests** cautiously in training\n",
    "- Practice **timing** by dunking off alley-oops or self-lobs\n",
    "\n",
    "Want a dunk-specific workout plan or tips for shorter players?\n"
   ]
  },
  {
   "cell_type": "raw",
   "id": "0028af37-3669-4843-9293-746753cce192",
   "metadata": {},
   "source": [
    "My answer: This is exactly what I would recommend too. The thing that stuck out to me was discussing the approach, that is something I think is not as well understood when people are trying to learn. The approach and momentum you can create can make it much easier to dunk. When I asked the question I thought there would only be talks about jumping high and gripping the ball."
   ]
  },
  {
   "cell_type": "code",
   "execution_count": null,
   "id": "4d510f78-46e1-41a3-bb37-8f42d0cb9128",
   "metadata": {},
   "outputs": [],
   "source": []
  }
 ],
 "metadata": {
  "kernelspec": {
   "display_name": "Python 3-12 (COMM4190)",
   "language": "python",
   "name": "python3-12_comm4190"
  },
  "language_info": {
   "codemirror_mode": {
    "name": "ipython",
    "version": 3
   },
   "file_extension": ".py",
   "mimetype": "text/x-python",
   "name": "python",
   "nbconvert_exporter": "python",
   "pygments_lexer": "ipython3",
   "version": "3.12.8"
  }
 },
 "nbformat": 4,
 "nbformat_minor": 5
}
