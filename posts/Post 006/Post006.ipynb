{
 "cells": [
  {
   "cell_type": "raw",
   "id": "aac0763e-e973-4768-9ec0-50b888a797c0",
   "metadata": {},
   "source": [
    "---\n",
    "title: \"What drills for bball?\"\n",
    "description: \"What drills should I be doing for basketball\" \n",
    "author: \"Nick\"\n",
    "date: \"5/13/2025\"\n",
    "categories:\n",
    "  - basketball\n",
    "---"
   ]
  },
  {
   "cell_type": "raw",
   "id": "4d8004dc-e4b6-4a1d-8cb7-3a2b55d7f4aa",
   "metadata": {},
   "source": [
    "#6 What Drills should I do to get better at basketball?\n",
    "\n",
    "To get better at basketball, focus on **fundamental drills** that develop your ball-handling, shooting, footwork, and game awareness. Here are essential drills you can do consistently:\n",
    "\n",
    "---\n",
    "\n",
    "### 🏀 **Ball-Handling Drills** (5–10 minutes daily)\n",
    "1. **Stationary Dribbling** – Pound dribble (both hands), crossover, behind-the-back, between-the-legs.\n",
    "2. **Cone Dribbling** – Set up 5 cones and weave through using different moves at each.\n",
    "3. **Two-Ball Dribbling** – Dribble two basketballs at once to improve control and coordination.\n",
    "\n",
    "---\n",
    "\n",
    "### 🎯 **Shooting Drills**\n",
    "1. **Form Shooting** – Start close to the hoop and focus on proper mechanics.\n",
    "2. **Spot Shooting** – Shoot from 5–7 spots around the arc (corner, wing, top, etc.).\n",
    "3. **Off-the-Dribble Shooting** – Practice pulling up after 1–2 hard dribbles.\n",
    "4. **Free Throws** – Make 10–20 in a row; keep track of your percentage.\n",
    "\n",
    "---\n",
    "\n",
    "### 🏃 **Footwork & Conditioning**\n",
    "1. **Mikan Drill** – Improve finishing with both hands around the rim.\n",
    "2. **Defensive Slides** – Work on lateral movement and defensive positioning.\n",
    "3. **Suicides / Line Touches** – Build endurance and explosive speed.\n",
    "\n",
    "---\n",
    "\n",
    "### 🧠 **Basketball IQ & Game Play**\n",
    "- **1-on-1, 3-on-3, or 5-on-5 games** – Apply what you’ve practiced in real scenarios.\n",
    "- **Watch film** – Study great players at your position to learn spacing, decision-making, and timing.\n",
    "\n",
    "---\n",
    "\n",
    "### 🔁 Daily Routine Suggestion:\n",
    "- 10 min: Ball-handling\n",
    "- 15–20 min: Shooting\n",
    "- 10 min: Finishing/footwork\n",
    "- 5–10 min: Free throws\n",
    "- 10 min: Game simulation or scrimmage\n",
    "\n",
    "Want a specific plan based on your position or skill level?\n"
   ]
  },
  {
   "cell_type": "raw",
   "id": "abd82626-02bb-4c02-a8fc-4b7311351a2e",
   "metadata": {},
   "source": [
    "My Answer: As someone who has played all their life I would disagree with a lot of this. Of course it depends on what your goals are, if they are to just literally get a little better at basketball this is fine. But If it is for someone who is trying to make a team or play competitively this is not great advice. The most important thing is playing basketball like game simulation or scrimmage. I would recommend 30 minutes of all the other stuff and then 30 minutes of playing or more. The best way to get better at basketball is to play it because those skill drills can only do so much. "
   ]
  },
  {
   "cell_type": "code",
   "execution_count": null,
   "id": "b9af04b2-2281-4d9b-8cb6-0a2a3cb109b3",
   "metadata": {},
   "outputs": [],
   "source": []
  }
 ],
 "metadata": {
  "kernelspec": {
   "display_name": "Python 3-12 (COMM4190)",
   "language": "python",
   "name": "python3-12_comm4190"
  },
  "language_info": {
   "codemirror_mode": {
    "name": "ipython",
    "version": 3
   },
   "file_extension": ".py",
   "mimetype": "text/x-python",
   "name": "python",
   "nbconvert_exporter": "python",
   "pygments_lexer": "ipython3",
   "version": "3.12.8"
  }
 },
 "nbformat": 4,
 "nbformat_minor": 5
}
