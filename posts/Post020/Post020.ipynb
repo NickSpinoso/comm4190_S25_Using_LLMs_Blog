{
 "cells": [
  {
   "cell_type": "raw",
   "id": "1d1b6a87-2b88-4a68-8ce5-9085b5bc9076",
   "metadata": {},
   "source": [
    "---\n",
    "title: \"What is the best state?\"\n",
    "description: \"What is taken into account as the best state\" \n",
    "author: \"Nick\"\n",
    "date: \"5/13/2025\"\n",
    "categories:\n",
    "  - America\n",
    "  - Geography\n",
    "---"
   ]
  },
  {
   "cell_type": "code",
   "execution_count": null,
   "id": "d78337fa-8cc7-4fdf-b7f6-1280074cf75b",
   "metadata": {},
   "outputs": [],
   "source": []
  }
 ],
 "metadata": {
  "kernelspec": {
   "display_name": "Python 3-12 (COMM4190)",
   "language": "python",
   "name": "python3-12_comm4190"
  },
  "language_info": {
   "codemirror_mode": {
    "name": "ipython",
    "version": 3
   },
   "file_extension": ".py",
   "mimetype": "text/x-python",
   "name": "python",
   "nbconvert_exporter": "python",
   "pygments_lexer": "ipython3",
   "version": "3.12.8"
  }
 },
 "nbformat": 4,
 "nbformat_minor": 5
}
