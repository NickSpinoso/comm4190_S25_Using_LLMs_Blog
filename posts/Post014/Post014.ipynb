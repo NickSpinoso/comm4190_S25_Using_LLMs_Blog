{
 "cells": [
  {
   "cell_type": "raw",
   "id": "01fc3d5f-29ec-468e-8a1d-9ed4ec311f8e",
   "metadata": {},
   "source": [
    "---\n",
    "title: \"Choose the best social media app\"\n",
    "description: \"Social media apps\" \n",
    "author: \"Nick\"\n",
    "date: \"5/13/2025\"\n",
    "categories:\n",
    "  - Social media\n",
    "---"
   ]
  },
  {
   "cell_type": "raw",
   "id": "36c5fd0c-04cc-4352-89b9-8ad8963eae8f",
   "metadata": {},
   "source": [
    "#14 Choose the best social media app\n",
    "\n",
    "The **best social media app overall is Instagram** — it offers the most versatile mix of features: photos, videos (Reels), messaging, Stories, and shopping, making it the top choice for staying connected, discovering trends, and building a presence.\n"
   ]
  },
  {
   "cell_type": "raw",
   "id": "287a8c6f-57c2-4d80-a683-7fce56e624c0",
   "metadata": {},
   "source": [
    "My Answer: I find it interesting that it did not choose X (twitter). I really thought considering how long it has been prominent and how much it is used to report news would be really of value. I understand that instagram may be slightly more popular but I was surprised it wasn't X."
   ]
  },
  {
   "cell_type": "code",
   "execution_count": null,
   "id": "a8723fa2-e85e-4b10-9af5-d4392eb080dc",
   "metadata": {},
   "outputs": [],
   "source": []
  }
 ],
 "metadata": {
  "kernelspec": {
   "display_name": "Python 3-12 (COMM4190)",
   "language": "python",
   "name": "python3-12_comm4190"
  },
  "language_info": {
   "codemirror_mode": {
    "name": "ipython",
    "version": 3
   },
   "file_extension": ".py",
   "mimetype": "text/x-python",
   "name": "python",
   "nbconvert_exporter": "python",
   "pygments_lexer": "ipython3",
   "version": "3.12.8"
  }
 },
 "nbformat": 4,
 "nbformat_minor": 5
}
