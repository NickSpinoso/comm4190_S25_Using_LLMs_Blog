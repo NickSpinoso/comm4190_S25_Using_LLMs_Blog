{
 "cells": [
  {
   "cell_type": "raw",
   "id": "cdfa4ebc-132e-4066-aa35-fcbfe9a19c61",
   "metadata": {},
   "source": [
    "---\n",
    "title: \"First\"\n",
    "description: \"trying out new post\"\n",
    "author: \"Nick S\"\n",
    "date: \"4/8/2025\"\n",
    "categories:\n",
    "  - LLMs\n",
    "  - prompting\n",
    "  - logic\n",
    "---"
   ]
  },
  {
   "cell_type": "markdown",
   "id": "e3020403-a638-4c97-9287-1246dec5ef8c",
   "metadata": {},
   "source": [
    "# 002\n",
    "!"
   ]
  }
 ],
 "metadata": {
  "citation-manager": {
   "items": {}
  },
  "kernelspec": {
   "display_name": "Python 3-12 (COMM4190)",
   "language": "python",
   "name": "python3-12_comm4190"
  },
  "language_info": {
   "codemirror_mode": {
    "name": "ipython",
    "version": 3
   },
   "file_extension": ".py",
   "mimetype": "text/x-python",
   "name": "python",
   "nbconvert_exporter": "python",
   "pygments_lexer": "ipython3",
   "version": "3.12.8"
  }
 },
 "nbformat": 4,
 "nbformat_minor": 5
}
