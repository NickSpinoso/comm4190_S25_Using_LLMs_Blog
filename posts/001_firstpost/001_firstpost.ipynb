{
 "cells": [
  {
   "cell_type": "raw",
   "id": "22617f3b-3fd6-4f32-87e2-e2da20ff78f0",
   "metadata": {},
   "source": [
    "---\n",
    "title: \"First\"\n",
    "description: \"trying out new post\"\n",
    "author: \"Nick S\"\n",
    "date: \"4/8/2025\"\n",
    "categories:\n",
    "  - LLMs\n",
    "  - prompting\n",
    "  - logic\n",
    "---"
   ]
  },
  {
   "cell_type": "markdown",
   "id": "1e016ec9-6a05-40e6-adb3-5cf7cb27014f",
   "metadata": {},
   "source": [
    "# Testing First Post\n",
    "\n",
    "- First Post\n",
    "- Trying out\n",
    "  "
   ]
  },
  {
   "cell_type": "code",
   "execution_count": null,
   "id": "e2346e22-59ba-43ae-be24-f12f25bc597e",
   "metadata": {},
   "outputs": [],
   "source": []
  }
 ],
 "metadata": {
  "citation-manager": {
   "items": {}
  },
  "kernelspec": {
   "display_name": "Python 3-12 (COMM4190)",
   "language": "python",
   "name": "python3-12_comm4190"
  },
  "language_info": {
   "codemirror_mode": {
    "name": "ipython",
    "version": 3
   },
   "file_extension": ".py",
   "mimetype": "text/x-python",
   "name": "python",
   "nbconvert_exporter": "python",
   "pygments_lexer": "ipython3",
   "version": "3.12.8"
  }
 },
 "nbformat": 4,
 "nbformat_minor": 5
}
